{
  "nbformat": 4,
  "nbformat_minor": 0,
  "metadata": {
    "accelerator": "TPU",
    "colab": {
      "name": "Environment Sound classification | training.ipynb",
      "provenance": []
    },
    "kernelspec": {
      "display_name": "Python 3",
      "name": "python3"
    },
    "language_info": {
      "name": "python"
    }
  },
  "cells": [
    {
      "cell_type": "code",
      "metadata": {
        "colab": {
          "base_uri": "https://localhost:8080/"
        },
        "id": "456ivtIl7SBp",
        "outputId": "a616dc67-0acc-44bc-dd9f-b5782a74de5b"
      },
      "source": [
        "from google.colab import drive\n",
        "drive.mount('/content/drive')"
      ],
      "execution_count": null,
      "outputs": [
        {
          "output_type": "stream",
          "text": [
            "Mounted at /content/drive\n"
          ],
          "name": "stdout"
        }
      ]
    },
    {
      "cell_type": "code",
      "metadata": {
        "id": "xW6QSnSNepiK"
      },
      "source": [
        "import pandas as pd\n",
        "import matplotlib.pyplot as plt\n",
        "import librosa\n",
        "import librosa.display\n",
        "from tqdm import tqdm\n",
        "import numpy as np\n",
        "from sklearn.model_selection import train_test_split\n",
        "import tensorflow as tf\n",
        "import tensorflow.keras.models as models\n",
        "import tensorflow.keras.layers as layers\n",
        "\n",
        "%matplotlib inline\n",
        "%load_ext tensorboard"
      ],
      "execution_count": null,
      "outputs": []
    },
    {
      "cell_type": "code",
      "metadata": {
        "id": "uN-thNTZCEtK"
      },
      "source": [
        "csv_path=\"/content/drive/MyDrive/Datasets-Collab/Kaggle-sound_classification/archive.zip (Unzipped Files)/esc50.csv\"\n",
        "audio_path='/content/drive/MyDrive/Datasets-Collab/Kaggle-sound_classification/archive.zip (Unzipped Files)/audio/audio/44100/'"
      ],
      "execution_count": null,
      "outputs": []
    },
    {
      "cell_type": "code",
      "metadata": {
        "id": "8_KZ4AA7e4FL"
      },
      "source": [
        "df_train=pd.read_csv(csv_path)"
      ],
      "execution_count": null,
      "outputs": []
    },
    {
      "cell_type": "code",
      "metadata": {
        "id": "JYAKhge_CbE0"
      },
      "source": [
        "classes=df_train['category'].unique()"
      ],
      "execution_count": null,
      "outputs": []
    },
    {
      "cell_type": "code",
      "metadata": {
        "id": "94CVwc_6CeHY"
      },
      "source": [
        "class_dict={i:x for x, i in enumerate(classes)}"
      ],
      "execution_count": null,
      "outputs": []
    },
    {
      "cell_type": "code",
      "metadata": {
        "id": "wxpxlwBPDCTW"
      },
      "source": [
        "sample_df=df_train.drop_duplicates(subset=['target'])"
      ],
      "execution_count": null,
      "outputs": []
    },
    {
      "cell_type": "code",
      "metadata": {
        "id": "W2ee6ixeDDhP"
      },
      "source": [
        "sample_df=sample_df[['filename','target','category']]"
      ],
      "execution_count": null,
      "outputs": []
    },
    {
      "cell_type": "code",
      "metadata": {
        "colab": {
          "base_uri": "https://localhost:8080/"
        },
        "id": "weC0T8beDhng",
        "outputId": "41180750-6361-4328-fd23-94f1a3db2f64"
      },
      "source": [
        "signals = {}\n",
        "mel_spectrograms = {}\n",
        "mfccs = {}\n",
        "\n",
        "for index,row in tqdm(sample_df.iterrows()):\n",
        "  # extracting the signals\n",
        "  signal,sr=librosa.load(audio_path + row['filename'])\n",
        "  signals[row['category']]=signal\n",
        "\n",
        "  #extracting the mel Spectorgam\n",
        "  mel_spec=librosa.feature.melspectrogram(y=signal,sr=sr,n_fft=2048,hop_length=512)\n",
        "  mel_power=librosa.power_to_db(mel_spec,ref=np.max)\n",
        "\n",
        "  mel_spectrograms[row['category']]=mel_power\n",
        "\n",
        "  #extracting the mfcc\n",
        "  mfcc=librosa.feature.mfcc(y=signal,sr=sr,n_mfcc=13,dct_type=3)\n",
        "  mfccs[row['category']]=mfcc"
      ],
      "execution_count": null,
      "outputs": [
        {
          "output_type": "stream",
          "text": [
            "50it [00:49,  1.01it/s]\n"
          ],
          "name": "stderr"
        }
      ]
    },
    {
      "cell_type": "code",
      "metadata": {
        "colab": {
          "base_uri": "https://localhost:8080/"
        },
        "id": "le2pDLf8EKDj",
        "outputId": "0006407a-e998-47f9-af08-a26728f6642e"
      },
      "source": [
        "len(signals)"
      ],
      "execution_count": null,
      "outputs": [
        {
          "output_type": "execute_result",
          "data": {
            "text/plain": [
              "50"
            ]
          },
          "metadata": {
            "tags": []
          },
          "execution_count": 13
        }
      ]
    },
    {
      "cell_type": "code",
      "metadata": {
        "colab": {
          "base_uri": "https://localhost:8080/",
          "height": 35
        },
        "id": "oyC_8DGMKpHn",
        "outputId": "b934e163-770b-4218-a702-6ec9a28e854b"
      },
      "source": [
        "(list(signals.keys())[2])"
      ],
      "execution_count": null,
      "outputs": [
        {
          "output_type": "execute_result",
          "data": {
            "application/vnd.google.colaboratory.intrinsic+json": {
              "type": "string"
            },
            "text/plain": [
              "'vacuum_cleaner'"
            ]
          },
          "metadata": {
            "tags": []
          },
          "execution_count": 14
        }
      ]
    },
    {
      "cell_type": "code",
      "metadata": {
        "id": "o7jeECwlGZbX"
      },
      "source": [
        "\n",
        "\n",
        "def plot_signal(signal,name,cmap=None):\n",
        "    \"\"\"\n",
        "    this function will take the signal dictionary and plot the signals\n",
        "    \"\"\"\n",
        "    fig , axes = plt.subplots(nrows=5 , ncols=2 , sharex =False ,sharey=True,\n",
        "                             figsize=(40,20))\n",
        "    fig.suptitle('Time series',size=15)\n",
        "    i=0\n",
        "    for x in range(5):\n",
        "        for y in range(2):\n",
        "          axes[x,y].set_title(list(signal.keys())[i])\n",
        "          if(name=='signal'):\n",
        "            print('yes')\n",
        "            axes[x,y].plot(list(signal.values())[i])\n",
        "          else:\n",
        "            \n",
        "            axes[x,y].imshow(list(signal.values())[i], cmap=cmap,interpolation='nearest')\n",
        "            \n",
        "          axes[x,y].get_xaxis().set_visible(False)\n",
        "          axes[x,y].get_yaxis().set_visible(False)\n",
        "          i +=1\n",
        "\n"
      ],
      "execution_count": null,
      "outputs": []
    },
    {
      "cell_type": "code",
      "metadata": {
        "id": "FxeJ0_WGKJbx"
      },
      "source": [
        "plot_signal(mfccs,'signl')#,cmap='hot')"
      ],
      "execution_count": null,
      "outputs": []
    },
    {
      "cell_type": "code",
      "metadata": {
        "id": "1JeUObQVWNP_"
      },
      "source": [
        "df_train.head(2)"
      ],
      "execution_count": null,
      "outputs": []
    },
    {
      "cell_type": "code",
      "metadata": {
        "colab": {
          "base_uri": "https://localhost:8080/"
        },
        "id": "wmWJt-2iSRHU",
        "outputId": "3d937055-6fa7-4263-a652-c52282efa240"
      },
      "source": [
        "X=[]\n",
        "Y=[]\n",
        "for index,row in tqdm(df_train.iterrows()):\n",
        "  signal,sr=librosa.load(audio_path+row['filename'])\n",
        "  for i in range(3):\n",
        "    n=np.random.randint(0,int(len(signal)-(2*sr)))\n",
        "    sign_=signal[n:int(n+(2*sr))]\n",
        "    mfcc_=librosa.feature.mfcc(sign_,sr=sr,n_mfcc=13)\n",
        "    X.append(mfcc_)\n",
        "    Y.append(row['target'])\n",
        "\n"
      ],
      "execution_count": null,
      "outputs": [
        {
          "output_type": "stream",
          "text": [
            "2000it [18:55,  1.76it/s]\n"
          ],
          "name": "stderr"
        }
      ]
    },
    {
      "cell_type": "code",
      "metadata": {
        "id": "COXVLF8zSgk3"
      },
      "source": [
        "X = np.array(X) \n",
        "y = np.array(Y)\n",
        "\n",
        "#one-hot encoding the target\n",
        "y = tf.keras.utils.to_categorical(y , num_classes=50)\n",
        "\n",
        "# our tensorflow model takes input as (no_of_sample , height , width , channel).\n",
        "# here X has dimension (no_of_sample , height , width).\n",
        "# So, the below code will reshape it to (no_of_sample , height , width , 1).\n",
        "X = X.reshape(X.shape[0], X.shape[1], X.shape[2], 1)"
      ],
      "execution_count": null,
      "outputs": []
    },
    {
      "cell_type": "code",
      "metadata": {
        "id": "nHm_zgDCmWYm"
      },
      "source": [
        "x_train , x_val , y_train , y_val = train_test_split(X , y ,test_size=0.2, random_state=2020)\n"
      ],
      "execution_count": null,
      "outputs": []
    },
    {
      "cell_type": "code",
      "metadata": {
        "id": "3FEG99HAme8D"
      },
      "source": [
        "INPUTSHAPE = (13,87,1)"
      ],
      "execution_count": null,
      "outputs": []
    },
    {
      "cell_type": "code",
      "metadata": {
        "id": "XGBo-QRmmhcQ"
      },
      "source": [
        "model =  models.Sequential([\n",
        "                          layers.Conv2D(64 , (3,3),activation = 'relu',padding='valid', input_shape = INPUTSHAPE),\n",
        "                          #layers.Conv2D(128, (3,3), activation='relu',padding='valid'),\n",
        "                          layers.Conv2D(128, (3,3), activation='relu',padding='valid'),\n",
        "                          #layers.MaxPool2D((3,3)),\n",
        "                          layers.Conv2D(64, (3,3), activation='relu',padding='valid'),\n",
        "\n",
        "                          layers.Conv2D(64, (3,3), activation='relu',padding='valid'),\n",
        "                          layers.Conv2D(32, (3,3), activation='relu',padding='valid'),\n",
        "                          layers.GlobalAveragePooling2D(),\n",
        "                          layers.Dense(32 , activation = 'relu'),\n",
        "                          layers.Dense(50 , activation = 'softmax')\n",
        "])\n",
        "\n",
        "model.compile(loss = 'categorical_crossentropy', optimizer = 'adam', metrics = 'acc')\n"
      ],
      "execution_count": null,
      "outputs": []
    },
    {
      "cell_type": "code",
      "metadata": {
        "id": "ya-XV4-6mmK3",
        "colab": {
          "base_uri": "https://localhost:8080/"
        },
        "outputId": "dd991e16-4017-40e5-ac7b-97c977be1f8f"
      },
      "source": [
        "%mkdir \"cpkt\"\n",
        "%mkdir \"logs\"\n",
        "LOGDIR = \"logs\"\n",
        "CPKT = \"cpkt/\"\n",
        "\n",
        "callback_1 = tf.keras.callbacks.EarlyStopping(\n",
        "    monitor='val_loss', min_delta=0, patience=3, verbose=0, mode='auto',\n",
        "    baseline=None, restore_best_weights=False\n",
        ")\n",
        "\n",
        "#this checkpoint saves the best weights of model at every epoch\n",
        "callback_2 = tf.keras.callbacks.ModelCheckpoint(\n",
        "    CPKT, monitor='val_loss', verbose=0, save_best_only=True,\n",
        "    save_weights_only=True, mode='auto', save_freq='epoch', options=None\n",
        ")\n",
        "\n",
        "#this is for tensorboard\n",
        "tensorboard_callback = tf.keras.callbacks.TensorBoard(log_dir=LOGDIR)\n"
      ],
      "execution_count": null,
      "outputs": [
        {
          "output_type": "stream",
          "text": [
            "mkdir: cannot create directory ‘cpkt’: File exists\n",
            "mkdir: cannot create directory ‘logs’: File exists\n"
          ],
          "name": "stdout"
        }
      ]
    },
    {
      "cell_type": "code",
      "metadata": {
        "colab": {
          "base_uri": "https://localhost:8080/"
        },
        "id": "FaOynbN7mygy",
        "outputId": "9d2a03cf-d9ed-4a53-aebf-ad016792fb46"
      },
      "source": [
        "history = model.fit(x_train,y_train ,\n",
        "            validation_data=(x_val,y_val),\n",
        "            epochs=100,\n",
        "            callbacks = [callback_1 , callback_2 , tensorboard_callback])\n"
      ],
      "execution_count": null,
      "outputs": [
        {
          "output_type": "stream",
          "text": [
            "Epoch 1/100\n",
            "150/150 [==============================] - 84s 559ms/step - loss: 3.8269 - acc: 0.0376 - val_loss: 3.3443 - val_acc: 0.1083\n",
            "Epoch 2/100\n",
            "150/150 [==============================] - 83s 553ms/step - loss: 3.1669 - acc: 0.1434 - val_loss: 2.9076 - val_acc: 0.1867\n",
            "Epoch 3/100\n",
            "150/150 [==============================] - 83s 555ms/step - loss: 2.7640 - acc: 0.2335 - val_loss: 2.6132 - val_acc: 0.2742\n",
            "Epoch 4/100\n",
            "150/150 [==============================] - 83s 557ms/step - loss: 2.4571 - acc: 0.3058 - val_loss: 2.3889 - val_acc: 0.3283\n",
            "Epoch 5/100\n",
            "150/150 [==============================] - 84s 563ms/step - loss: 2.2541 - acc: 0.3507 - val_loss: 2.1807 - val_acc: 0.4017\n",
            "Epoch 6/100\n",
            "150/150 [==============================] - 84s 562ms/step - loss: 2.0157 - acc: 0.4132 - val_loss: 2.1921 - val_acc: 0.3858\n",
            "Epoch 7/100\n",
            "150/150 [==============================] - 84s 563ms/step - loss: 1.8223 - acc: 0.4699 - val_loss: 2.0162 - val_acc: 0.4308\n",
            "Epoch 8/100\n",
            "150/150 [==============================] - 84s 564ms/step - loss: 1.6859 - acc: 0.5032 - val_loss: 1.9647 - val_acc: 0.4417\n",
            "Epoch 9/100\n",
            "150/150 [==============================] - 84s 563ms/step - loss: 1.5486 - acc: 0.5556 - val_loss: 1.9605 - val_acc: 0.4858\n",
            "Epoch 10/100\n",
            "150/150 [==============================] - 84s 564ms/step - loss: 1.3823 - acc: 0.5888 - val_loss: 1.7658 - val_acc: 0.5333\n",
            "Epoch 11/100\n",
            "150/150 [==============================] - 85s 564ms/step - loss: 1.2221 - acc: 0.6410 - val_loss: 1.6603 - val_acc: 0.5442\n",
            "Epoch 12/100\n",
            "150/150 [==============================] - 84s 563ms/step - loss: 1.1215 - acc: 0.6714 - val_loss: 1.5729 - val_acc: 0.5692\n",
            "Epoch 13/100\n",
            "150/150 [==============================] - 85s 564ms/step - loss: 1.0529 - acc: 0.6921 - val_loss: 1.6326 - val_acc: 0.5858\n",
            "Epoch 14/100\n",
            "150/150 [==============================] - 85s 564ms/step - loss: 0.9866 - acc: 0.7162 - val_loss: 1.5182 - val_acc: 0.6167\n",
            "Epoch 15/100\n",
            "150/150 [==============================] - 85s 565ms/step - loss: 0.8897 - acc: 0.7373 - val_loss: 1.5931 - val_acc: 0.5983\n",
            "Epoch 16/100\n",
            "150/150 [==============================] - 85s 564ms/step - loss: 0.8494 - acc: 0.7486 - val_loss: 1.5762 - val_acc: 0.6092\n",
            "Epoch 17/100\n",
            "150/150 [==============================] - 84s 564ms/step - loss: 0.7703 - acc: 0.7639 - val_loss: 1.4618 - val_acc: 0.6325\n",
            "Epoch 18/100\n",
            "150/150 [==============================] - 84s 563ms/step - loss: 0.7342 - acc: 0.7747 - val_loss: 1.5246 - val_acc: 0.6517\n",
            "Epoch 19/100\n",
            "150/150 [==============================] - 84s 561ms/step - loss: 0.7424 - acc: 0.7792 - val_loss: 1.4900 - val_acc: 0.6433\n",
            "Epoch 20/100\n",
            "150/150 [==============================] - 84s 564ms/step - loss: 0.6720 - acc: 0.7970 - val_loss: 1.5190 - val_acc: 0.6367\n"
          ],
          "name": "stdout"
        }
      ]
    },
    {
      "cell_type": "code",
      "metadata": {
        "id": "Cmoc0xrhmzJ7"
      },
      "source": [
        ""
      ],
      "execution_count": null,
      "outputs": []
    }
  ]
}